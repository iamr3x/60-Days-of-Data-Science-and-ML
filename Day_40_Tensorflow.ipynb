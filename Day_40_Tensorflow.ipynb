{
  "nbformat": 4,
  "nbformat_minor": 0,
  "metadata": {
    "colab": {
      "provenance": [],
      "toc_visible": true,
      "authorship_tag": "ABX9TyPxgV/TAXS9rcAbRfjGmGL2"
    },
    "kernelspec": {
      "name": "python3",
      "display_name": "Python 3"
    },
    "language_info": {
      "name": "python"
    }
  },
  "cells": [
    {
      "cell_type": "markdown",
      "source": [
        "Tensorflow is an open source platform for machine learning and deep learning developed by Google Brain Team and written in C++, Python, and CUDA created for large numerical computations and deep learning. It ingests the data in the form of tensors which are nothing but multi-dimensional arrays of higher dimensions to handle large amounts of data. It works on the data flow graphs that have nodes and edges and supports both CPUs and GPUs. It works by preprocessing the data, building the model, training and estimating the model.\n",
        "\n",
        "<div style=\"text-align:center\"><img alt=\"Classification\" src=\"https://github.com/thunderstroke325/60-Days-of-Data-Science-and-ML/blob/main/assets/tensorflow.png?raw=true\"/></div>"
      ],
      "metadata": {
        "id": "LcmIdybFRQDa"
      }
    },
    {
      "cell_type": "code",
      "execution_count": 3,
      "metadata": {
        "id": "Jpm-q1TnRAOm"
      },
      "outputs": [],
      "source": [
        "from tensorflow.keras.preprocessing.sequence import pad_sequences\n",
        "from tensorflow.keras.datasets import imdb\n",
        "from tensorflow.keras.models import Sequential\n",
        "from tensorflow.keras.layers import Dense, Embedding, GlobalAveragePooling1D\n",
        "from tensorflow.keras.callbacks import LambdaCallback\n",
        "import matplotlib.pyplot as plt\n",
        "%matplotlib inline\n",
        "import numpy as np"
      ]
    },
    {
      "cell_type": "markdown",
      "source": [
        "### Load the Data"
      ],
      "metadata": {
        "id": "4g9XvLlKbtIR"
      }
    },
    {
      "cell_type": "code",
      "source": [
        "( x_train, y_train), ( x_test,y_test) = imdb.load_data(num_words=10000)\n",
        "class_names = ['Negative','Positive']\n",
        "wi = imdb.get_word_index()\n",
        "print(wi['hey'])"
      ],
      "metadata": {
        "colab": {
          "base_uri": "https://localhost:8080/"
        },
        "id": "BZXH8HBWbr_q",
        "outputId": "841244d6-523f-4332-b568-16844196c03c"
      },
      "execution_count": 4,
      "outputs": [
        {
          "output_type": "stream",
          "name": "stdout",
          "text": [
            "Downloading data from https://storage.googleapis.com/tensorflow/tf-keras-datasets/imdb.npz\n",
            "17465344/17464789 [==============================] - 0s 0us/step\n",
            "17473536/17464789 [==============================] - 0s 0us/step\n",
            "Downloading data from https://storage.googleapis.com/tensorflow/tf-keras-datasets/imdb_word_index.json\n",
            "1646592/1641221 [==============================] - 0s 0us/step\n",
            "1654784/1641221 [==============================] - 0s 0us/step\n",
            "1397\n"
          ]
        }
      ]
    },
    {
      "cell_type": "markdown",
      "source": [
        "### Word Embedding\n",
        "Word Embeddings lets us use an efficient, dense representation in which similar words have a similar encoding.\n",
        "\n",
        "<div style=\"text-align:center\"><img alt=\"Classification\" src=\"https://github.com/thunderstroke325/60-Days-of-Data-Science-and-ML/blob/main/assets/one_hot_encoding.png?raw=true\"/></div>"
      ],
      "metadata": {
        "id": "EDXs5aKUb0N8"
      }
    },
    {
      "cell_type": "markdown",
      "source": [
        "### Decode and Padding"
      ],
      "metadata": {
        "id": "9N2rv6EfcAS6"
      }
    },
    {
      "cell_type": "code",
      "source": [
        "reverse_word_index = dict((value,key) for key,value in wi.items())\n",
        "def decode(review):\n",
        "    text = ''\n",
        "    for i in review:\n",
        "        text+=reverse_word_index[i]\n",
        "        text += ' '\n",
        "    return text\n",
        "decode(x_train[2])"
      ],
      "metadata": {
        "colab": {
          "base_uri": "https://localhost:8080/",
          "height": 87
        },
        "id": "VykZ0fnKcCbL",
        "outputId": "7ec8bf60-9d87-4b41-ab02-8ebdce0b70ed"
      },
      "execution_count": 5,
      "outputs": [
        {
          "output_type": "execute_result",
          "data": {
            "text/plain": [
              "\"the as there in at by br of sure many br of proving no only women was than doesn't as you never of hat night that with ignored they bad out superman plays of how star so stories film comes defense date of wide they don't do that had with of hollywood br of my seeing fan this of pop out body shots in having because cause it's stick passing first were enjoys for from look seven sense from me and die in character as cuban issues but is you that isn't one song just is him less are strongly not are you that different just even by this of you there is eight when it part are film's love film's 80's was big also light don't and as it in character looked cinematography so stories is far br man acting \""
            ],
            "application/vnd.google.colaboratory.intrinsic+json": {
              "type": "string"
            }
          },
          "metadata": {},
          "execution_count": 5
        }
      ]
    },
    {
      "cell_type": "code",
      "source": [
        "x_train = pad_sequences(x_train,value=wi['the'],padding = 'post',maxlen=256)\n",
        "x_test = pad_sequences(x_test,value=wi['the'],padding = 'post',maxlen=256)\n",
        "decode(x_train[2])"
      ],
      "metadata": {
        "colab": {
          "base_uri": "https://localhost:8080/",
          "height": 122
        },
        "id": "THkayc59cIbg",
        "outputId": "9c801b03-e6be-4329-b854-151f2b792e09"
      },
      "execution_count": 6,
      "outputs": [
        {
          "output_type": "execute_result",
          "data": {
            "text/plain": [
              "\"the as there in at by br of sure many br of proving no only women was than doesn't as you never of hat night that with ignored they bad out superman plays of how star so stories film comes defense date of wide they don't do that had with of hollywood br of my seeing fan this of pop out body shots in having because cause it's stick passing first were enjoys for from look seven sense from me and die in character as cuban issues but is you that isn't one song just is him less are strongly not are you that different just even by this of you there is eight when it part are film's love film's 80's was big also light don't and as it in character looked cinematography so stories is far br man acting the the the the the the the the the the the the the the the the the the the the the the the the the the the the the the the the the the the the the the the the the the the the the the the the the the the the the the the the the the the the the the the the the the the the the the the the the the the the the the the the the the the the the the the the the the the the the the the the the the the the the the the the the the the the the the the the the the the \""
            ],
            "application/vnd.google.colaboratory.intrinsic+json": {
              "type": "string"
            }
          },
          "metadata": {},
          "execution_count": 6
        }
      ]
    },
    {
      "cell_type": "markdown",
      "source": [
        "### Create Neural Network model"
      ],
      "metadata": {
        "id": "SUNlSTDdcAQj"
      }
    },
    {
      "cell_type": "code",
      "source": [
        "model = Sequential(\n",
        "[\n",
        "    Embedding(10000,16),\n",
        "    GlobalAveragePooling1D(),\n",
        "    Dense(16,activation='relu'),\n",
        "    Dense(1,activation='sigmoid')\n",
        "    \n",
        "])\n",
        "model.compile(\n",
        "   loss ='binary_crossentropy',\n",
        "    optimizer = 'adam',\n",
        "    metrics = ['accuracy']\n",
        ")\n",
        "model.summary()"
      ],
      "metadata": {
        "colab": {
          "base_uri": "https://localhost:8080/"
        },
        "id": "3ak1cbejcQLx",
        "outputId": "bb334195-a0d1-475f-f925-520001e7cdc5"
      },
      "execution_count": 7,
      "outputs": [
        {
          "output_type": "stream",
          "name": "stdout",
          "text": [
            "Model: \"sequential\"\n",
            "_________________________________________________________________\n",
            " Layer (type)                Output Shape              Param #   \n",
            "=================================================================\n",
            " embedding (Embedding)       (None, None, 16)          160000    \n",
            "                                                                 \n",
            " global_average_pooling1d (G  (None, 16)               0         \n",
            " lobalAveragePooling1D)                                          \n",
            "                                                                 \n",
            " dense (Dense)               (None, 16)                272       \n",
            "                                                                 \n",
            " dense_1 (Dense)             (None, 1)                 17        \n",
            "                                                                 \n",
            "=================================================================\n",
            "Total params: 160,289\n",
            "Trainable params: 160,289\n",
            "Non-trainable params: 0\n",
            "_________________________________________________________________\n"
          ]
        }
      ]
    },
    {
      "cell_type": "markdown",
      "source": [
        "### Train the model"
      ],
      "metadata": {
        "id": "JrnkgEijcXc5"
      }
    },
    {
      "cell_type": "code",
      "source": [
        "sl = LambdaCallback(on_epoch_end = lambda e, l:print(e,end='.'))\n",
        "E = 20\n",
        "h = model.fit(\n",
        "    x_train, y_train, \n",
        "    validation_split= 0.2,\n",
        "    epochs = E, \n",
        "    callbacks = [sl],\n",
        "    verbose = False\n",
        "     \n",
        ")"
      ],
      "metadata": {
        "colab": {
          "base_uri": "https://localhost:8080/"
        },
        "id": "uX9R_Ge2cZkK",
        "outputId": "c074ca1f-e945-4abf-a6b5-bc8a379cfeeb"
      },
      "execution_count": 8,
      "outputs": [
        {
          "output_type": "stream",
          "name": "stdout",
          "text": [
            "0.1.2.3.4.5.6.7.8.9.10.11.12.13.14.15.16.17.18.19."
          ]
        }
      ]
    },
    {
      "cell_type": "markdown",
      "source": [
        "### Evaluate the model"
      ],
      "metadata": {
        "id": "F_Xj7MuEcXZ_"
      }
    },
    {
      "cell_type": "code",
      "source": [
        "plt.plot(range(E),h.history['accuracy'],label='Training')\n",
        "plt.plot(range(E),h.history['val_accuracy'],label = 'Validation')\n",
        "plt.legend()\n",
        "plt.show()"
      ],
      "metadata": {
        "colab": {
          "base_uri": "https://localhost:8080/",
          "height": 265
        },
        "id": "WUh8SPiDcdlJ",
        "outputId": "9a519bcb-83ee-476c-bde0-75e109d4dbc4"
      },
      "execution_count": 12,
      "outputs": [
        {
          "output_type": "display_data",
          "data": {
            "text/plain": [
              "<Figure size 432x288 with 1 Axes>"
            ],
            "image/png": "[encoded data removed]"
          },
          "metadata": {
            "needs_background": "light"
          }
        }
      ]
    },
    {
      "cell_type": "markdown",
      "source": [
        "### Prediction"
      ],
      "metadata": {
        "id": "0--Giq5ZcehS"
      }
    },
    {
      "cell_type": "code",
      "source": [
        "loss,acc = model.evaluate(x_test,y_test)\n",
        "print(acc*100)\n",
        "p = model.predict(np.expand_dims(x_test[2],axis=0))\n",
        "print(class_names[np.argmax(p[0])])\n",
        "print(decode(x_test[2]))"
      ],
      "metadata": {
        "colab": {
          "base_uri": "https://localhost:8080/"
        },
        "id": "4yXRrlvYcgwq",
        "outputId": "ab23c758-5bbf-49a7-a44e-2661d8340809"
      },
      "execution_count": 13,
      "outputs": [
        {
          "output_type": "stream",
          "name": "stdout",
          "text": [
            "782/782 [==============================] - 2s 2ms/step - loss: 0.9950 - accuracy: 0.8406\n",
            "84.06000137329102\n",
            "Negative\n",
            "even cliche to purchased is money easily egypt and glory any is and i i liam film as and set actually easily like outdated sequel any of and ryan made film is and br and constant and of 90s letting deep in act made of road in of and movie and rural vhs of share in reaching fact of and polly spinal of 90s to them book are is unfamiliar mercy and mode they funniest is white courage and vegas wooden br of gender and unfortunately of 1968 no of years hokey and true up and and but 3 all ordinary be oblivious to and were deserve film clone and of creative br comes their kung who is assuming bias out new all it incomprehensible it episode much that's including i i cartoon of my certain no as rooting over you with way to cartoon of enough for that with way who is finished and they of rukh br for and expressing stunts black that story at actual in can as movie is and has though songs and action it's action his one me and grass this second no all way and not lee and be moves br figure of you boss movie is and 9 br propaganda and and after at of smoke splendid snow saturday it's results this of load it's think class br think cop for games make southern things to it jolly who and if is boyfriend you which is tony by this make residents too not make above it even background \n"
          ]
        }
      ]
    }
  ]
}
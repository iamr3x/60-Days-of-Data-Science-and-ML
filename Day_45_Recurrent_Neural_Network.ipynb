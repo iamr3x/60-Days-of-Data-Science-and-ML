{
  "nbformat": 4,
  "nbformat_minor": 0,
  "metadata": {
    "colab": {
      "provenance": [],
      "authorship_tag": "ABX9TyPRxqaHuJXGzn/35e3+sbAO"
    },
    "kernelspec": {
      "name": "python3",
      "display_name": "Python 3"
    },
    "language_info": {
      "name": "python"
    }
  },
  "cells": [
    {
      "cell_type": "code",
      "execution_count": 1,
      "metadata": {
        "id": "9UtgaCOWZB95"
      },
      "outputs": [],
      "source": [
        "import numpy as np\n",
        "from tensorflow.keras.models import Sequential\n",
        "from tensorflow.keras.layers import TimeDistributed, Dense, Dropout, SimpleRNN, RepeatVector\n",
        "from tensorflow.keras.callbacks import EarlyStopping, LambdaCallback\n",
        "from termcolor import colored"
      ]
    },
    {
      "cell_type": "markdown",
      "source": [
        "### Generate Data"
      ],
      "metadata": {
        "id": "WI-S-zjKZH5q"
      }
    },
    {
      "cell_type": "code",
      "source": [
        "all_chars='0123456789+'\n",
        "num_features = len(all_chars)\n",
        "print('no of features:', num_features)\n",
        "char_to_index= dict((c,i) for i,c in enumerate(all_chars))\n",
        "index_to_char= dict((i,c) for i, c in enumerate(all_chars))"
      ],
      "metadata": {
        "colab": {
          "base_uri": "https://localhost:8080/"
        },
        "id": "ROB4WQmoZKlE",
        "outputId": "642076a9-cadf-4f74-a180-ec88928f4010"
      },
      "execution_count": 2,
      "outputs": [
        {
          "output_type": "stream",
          "name": "stdout",
          "text": [
            "no of features: 11\n"
          ]
        }
      ]
    },
    {
      "cell_type": "code",
      "source": [
        "def generate_data():\n",
        "    first = np.random.randint(0,100)\n",
        "    second = np.random.randint(0,100)\n",
        "    example = str(first)+ '+' + str(second)\n",
        "    label = str(first+second)\n",
        "    return example, label\n",
        "generate_data()"
      ],
      "metadata": {
        "colab": {
          "base_uri": "https://localhost:8080/"
        },
        "id": "LlkSUsvPZM13",
        "outputId": "76e01b1a-f80f-4907-d58f-b974d881ba69"
      },
      "execution_count": 6,
      "outputs": [
        {
          "output_type": "execute_result",
          "data": {
            "text/plain": [
              "('49+87', '136')"
            ]
          },
          "metadata": {},
          "execution_count": 6
        }
      ]
    },
    {
      "cell_type": "markdown",
      "source": [
        "### Create the Model"
      ],
      "metadata": {
        "id": "NDh1kDDEZH3V"
      }
    },
    {
      "cell_type": "code",
      "source": [
        "hidden_units=128\n",
        "max_time_steps=5\n",
        "model = Sequential([\n",
        "    SimpleRNN(hidden_units,input_shape=(None,num_features)),\n",
        "    RepeatVector(max_time_steps),\n",
        "    SimpleRNN(hidden_units,return_sequences=True),\n",
        "    TimeDistributed(Dense(num_features,activation='softmax'))\n",
        "]\n",
        ")\n",
        "model.compile(\n",
        "   loss='categorical_crossentropy',\n",
        "    optimizer = 'adam',\n",
        "    metrics=['accuracy']\n",
        ")\n",
        "model.summary()"
      ],
      "metadata": {
        "colab": {
          "base_uri": "https://localhost:8080/"
        },
        "id": "50O7sqJ8ZQRF",
        "outputId": "70ed6785-8701-4609-a684-d9d875e3a53d"
      },
      "execution_count": 7,
      "outputs": [
        {
          "output_type": "stream",
          "name": "stdout",
          "text": [
            "Model: \"sequential_1\"\n",
            "_________________________________________________________________\n",
            " Layer (type)                Output Shape              Param #   \n",
            "=================================================================\n",
            " simple_rnn_2 (SimpleRNN)    (None, 128)               17920     \n",
            "                                                                 \n",
            " repeat_vector_1 (RepeatVect  (None, 5, 128)           0         \n",
            " or)                                                             \n",
            "                                                                 \n",
            " simple_rnn_3 (SimpleRNN)    (None, 5, 128)            32896     \n",
            "                                                                 \n",
            " time_distributed_1 (TimeDis  (None, 5, 11)            1419      \n",
            " tributed)                                                       \n",
            "                                                                 \n",
            "=================================================================\n",
            "Total params: 52,235\n",
            "Trainable params: 52,235\n",
            "Non-trainable params: 0\n",
            "_________________________________________________________________\n"
          ]
        }
      ]
    },
    {
      "cell_type": "markdown",
      "source": [
        "### Vectorize and Devectorize data"
      ],
      "metadata": {
        "id": "vX1rs8qyZH1L"
      }
    },
    {
      "cell_type": "code",
      "source": [
        "def vectorize_example(example,label):\n",
        "    x=np.zeros((max_time_steps,num_features))\n",
        "    y=np.zeros((max_time_steps,num_features))\n",
        "    \n",
        "    diff_x = max_time_steps - len(example)\n",
        "    diff_y = max_time_steps - len(label)\n",
        "    \n",
        "    for i,c in enumerate(example):\n",
        "        x[i+diff_x,char_to_index[c]] =1\n",
        "    for i in range(diff_x):\n",
        "        x[i,char_to_index['0']] = 1\n",
        "    for i,c in enumerate(label):\n",
        "        y[i+diff_y,char_to_index[c]] =1\n",
        "    for i in range(diff_y):\n",
        "        y[i,char_to_index['0']] = 1  \n",
        "    return x,y\n",
        "e, l = generate_data()\n",
        "print(e,l)\n",
        "x,y= vectorize_example(e,l)\n",
        "print(x.shape,y.shape)"
      ],
      "metadata": {
        "colab": {
          "base_uri": "https://localhost:8080/"
        },
        "id": "ATALiV79ZWds",
        "outputId": "d37195df-da1c-4489-f90d-129efc847777"
      },
      "execution_count": 8,
      "outputs": [
        {
          "output_type": "stream",
          "name": "stdout",
          "text": [
            "91+97 188\n",
            "(5, 11) (5, 11)\n"
          ]
        }
      ]
    },
    {
      "cell_type": "code",
      "source": [
        "def devectorize_example(example):\n",
        "    result = [index_to_char[np.argmax(vec)] for i,vec in enumerate(example)]\n",
        "    return ''.join(result)\n",
        "devectorize_example(x)"
      ],
      "metadata": {
        "colab": {
          "base_uri": "https://localhost:8080/",
          "height": 35
        },
        "id": "Yqr9CV-OZYCu",
        "outputId": "7687fa97-d65e-4108-acd1-9f3232dff906"
      },
      "execution_count": 10,
      "outputs": [
        {
          "output_type": "execute_result",
          "data": {
            "text/plain": [
              "'91+97'"
            ],
            "application/vnd.google.colaboratory.intrinsic+json": {
              "type": "string"
            }
          },
          "metadata": {},
          "execution_count": 10
        }
      ]
    },
    {
      "cell_type": "code",
      "source": [
        "devectorize_example(y)"
      ],
      "metadata": {
        "colab": {
          "base_uri": "https://localhost:8080/",
          "height": 35
        },
        "id": "khRFJuxUZcck",
        "outputId": "319f1716-0101-433f-b454-b0d0432a0765"
      },
      "execution_count": 11,
      "outputs": [
        {
          "output_type": "execute_result",
          "data": {
            "text/plain": [
              "'00188'"
            ],
            "application/vnd.google.colaboratory.intrinsic+json": {
              "type": "string"
            }
          },
          "metadata": {},
          "execution_count": 11
        }
      ]
    },
    {
      "cell_type": "markdown",
      "source": [
        "### Create Dataset"
      ],
      "metadata": {
        "id": "yc7fTqe4ZHyz"
      }
    },
    {
      "cell_type": "code",
      "source": [
        "def create_dataset(num_examples=2000):\n",
        "    x=np.zeros((num_examples,max_time_steps,num_features))\n",
        "    y=np.zeros((num_examples,max_time_steps,num_features))\n",
        "    for i in range(num_examples):\n",
        "        e,l = generate_data()\n",
        "        e_v, l_v = vectorize_example(e,l)\n",
        "        x[i] = e_v\n",
        "        y[i] = l_v\n",
        "    return x,y\n",
        "x,y = create_dataset()\n",
        "print(x.shape,y.shape)"
      ],
      "metadata": {
        "colab": {
          "base_uri": "https://localhost:8080/"
        },
        "id": "AegJoAYIZkdU",
        "outputId": "d9a5ed2a-5398-4cad-a911-aa0016d587e0"
      },
      "execution_count": 12,
      "outputs": [
        {
          "output_type": "stream",
          "name": "stdout",
          "text": [
            "(2000, 5, 11) (2000, 5, 11)\n"
          ]
        }
      ]
    },
    {
      "cell_type": "code",
      "source": [
        "devectorize_example(x[0])\n",
        "devectorize_example(y[0])"
      ],
      "metadata": {
        "colab": {
          "base_uri": "https://localhost:8080/",
          "height": 35
        },
        "id": "52yGmniWZuMc",
        "outputId": "61af02a0-39e6-4410-8e40-0591823f7f40"
      },
      "execution_count": 13,
      "outputs": [
        {
          "output_type": "execute_result",
          "data": {
            "text/plain": [
              "'00130'"
            ],
            "application/vnd.google.colaboratory.intrinsic+json": {
              "type": "string"
            }
          },
          "metadata": {},
          "execution_count": 13
        }
      ]
    },
    {
      "cell_type": "markdown",
      "source": [
        "### Training the Model"
      ],
      "metadata": {
        "id": "e6-OcY7GZv5L"
      }
    },
    {
      "cell_type": "code",
      "source": [
        "l_cb=LambdaCallback(\n",
        "    on_epoch_end = lambda e,l: print('{:.2f}'.format(l['val_accuracy']),end=' _ ')\n",
        ")\n",
        "es_cb=EarlyStopping(monitor='val_loss',patience=10)\n",
        "model.fit(x,y,epochs=500,batch_size=256,validation_split=0.2,\n",
        "         verbose=False,callbacks=[es_cb,l_cb])"
      ],
      "metadata": {
        "colab": {
          "base_uri": "https://localhost:8080/"
        },
        "id": "opbGUlgKZy18",
        "outputId": "7b9d060f-4e2a-457a-b5a0-0bb0e520a163"
      },
      "execution_count": 15,
      "outputs": [
        {
          "output_type": "stream",
          "name": "stdout",
          "text": [
            "0.58 _ 0.59 _ 0.61 _ 0.61 _ 0.61 _ 0.61 _ 0.62 _ 0.63 _ 0.63 _ 0.64 _ 0.65 _ 0.64 _ 0.65 _ 0.65 _ 0.66 _ 0.67 _ 0.67 _ 0.67 _ 0.69 _ 0.69 _ 0.70 _ 0.70 _ 0.71 _ 0.71 _ 0.71 _ 0.72 _ 0.72 _ 0.72 _ 0.72 _ 0.73 _ 0.74 _ 0.73 _ 0.74 _ 0.74 _ 0.75 _ 0.74 _ 0.75 _ 0.76 _ 0.76 _ 0.77 _ 0.76 _ 0.77 _ 0.77 _ 0.76 _ 0.77 _ 0.78 _ 0.77 _ 0.78 _ 0.79 _ 0.78 _ 0.78 _ 0.79 _ 0.79 _ 0.79 _ 0.79 _ 0.80 _ 0.82 _ 0.81 _ 0.81 _ 0.81 _ 0.82 _ 0.81 _ 0.82 _ 0.82 _ 0.83 _ 0.82 _ 0.83 _ 0.83 _ 0.84 _ 0.85 _ 0.85 _ 0.85 _ 0.86 _ 0.86 _ 0.86 _ 0.86 _ 0.86 _ 0.86 _ 0.87 _ 0.85 _ 0.86 _ 0.87 _ 0.86 _ 0.87 _ 0.88 _ 0.88 _ 0.88 _ 0.88 _ 0.88 _ 0.89 _ 0.90 _ 0.89 _ 0.89 _ 0.88 _ 0.90 _ 0.90 _ 0.90 _ 0.91 _ 0.91 _ 0.91 _ 0.91 _ 0.91 _ 0.90 _ 0.91 _ 0.91 _ 0.91 _ 0.92 _ 0.92 _ 0.91 _ 0.92 _ 0.92 _ 0.92 _ 0.92 _ 0.92 _ 0.92 _ 0.93 _ 0.92 _ 0.92 _ 0.93 _ 0.92 _ 0.92 _ 0.93 _ 0.93 _ 0.93 _ 0.93 _ 0.93 _ 0.92 _ 0.93 _ 0.93 _ 0.93 _ 0.93 _ 0.93 _ 0.93 _ 0.93 _ 0.93 _ 0.93 _ 0.93 _ 0.93 _ 0.93 _ 0.94 _ 0.93 _ 0.92 _ 0.93 _ 0.93 _ 0.94 _ 0.93 _ 0.93 _ 0.93 _ 0.93 _ 0.94 _ 0.94 _ 0.93 _ 0.94 _ 0.94 _ 0.94 _ 0.94 _ 0.94 _ 0.94 _ 0.94 _ 0.94 _ 0.94 _ 0.94 _ 0.94 _ 0.94 _ 0.94 _ 0.94 _ 0.94 _ 0.94 _ 0.94 _ 0.94 _ 0.94 _ 0.94 _ 0.94 _ 0.94 _ 0.94 _ "
          ]
        },
        {
          "output_type": "execute_result",
          "data": {
            "text/plain": [
              "<keras.callbacks.History at 0x7efd10a12810>"
            ]
          },
          "metadata": {},
          "execution_count": 15
        }
      ]
    },
    {
      "cell_type": "code",
      "source": [
        "x_test,y_test = create_dataset(10)\n",
        "preds = model.predict(x_test)\n",
        "for i,pred in enumerate(preds):\n",
        "    y=devectorize_example(y_test[i])\n",
        "    y_hat = devectorize_example(pred)\n",
        "    col='green'\n",
        "    if y!= y_hat:\n",
        "        col='red'\n",
        "    out='Input: '+ devectorize_example(x_test[i])+' Out: ' +y+'Pred:' +y_hat\n",
        "    print(colored(out,col))"
      ],
      "metadata": {
        "colab": {
          "base_uri": "https://localhost:8080/"
        },
        "id": "UbWWQCmCZ1ZT",
        "outputId": "51f4e2a0-637a-48b8-9642-744388b2fb20"
      },
      "execution_count": 16,
      "outputs": [
        {
          "output_type": "stream",
          "name": "stdout",
          "text": [
            "\u001b[32mInput: 87+24 Out: 00111Pred:00111\u001b[0m\n",
            "\u001b[32mInput: 40+53 Out: 00093Pred:00093\u001b[0m\n",
            "\u001b[32mInput: 20+97 Out: 00117Pred:00117\u001b[0m\n",
            "\u001b[32mInput: 87+20 Out: 00107Pred:00107\u001b[0m\n",
            "\u001b[32mInput: 30+76 Out: 00106Pred:00106\u001b[0m\n",
            "\u001b[32mInput: 15+80 Out: 00095Pred:00095\u001b[0m\n",
            "\u001b[32mInput: 012+2 Out: 00014Pred:00014\u001b[0m\n",
            "\u001b[32mInput: 74+82 Out: 00156Pred:00156\u001b[0m\n",
            "\u001b[32mInput: 20+79 Out: 00099Pred:00099\u001b[0m\n",
            "\u001b[32mInput: 39+32 Out: 00071Pred:00071\u001b[0m\n"
          ]
        }
      ]
    }
  ]
}
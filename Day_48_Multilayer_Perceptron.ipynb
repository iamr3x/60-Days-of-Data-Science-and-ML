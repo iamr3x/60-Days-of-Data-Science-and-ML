{
  "nbformat": 4,
  "nbformat_minor": 0,
  "metadata": {
    "colab": {
      "provenance": [],
      "authorship_tag": "ABX9TyNYewcmXuVpWDgU6dLcSHd9"
    },
    "kernelspec": {
      "name": "python3",
      "display_name": "Python 3"
    },
    "language_info": {
      "name": "python"
    }
  },
  "cells": [
    {
      "cell_type": "code",
      "execution_count": 1,
      "metadata": {
        "id": "taX0N_ichj7G"
      },
      "outputs": [],
      "source": [
        "%matplotlib inline\n",
        "import matplotlib.pyplot as plt\n",
        "import numpy as np\n",
        "np.random.seed(0)\n",
        "import tensorflow as tf\n",
        "from tensorflow.keras.datasets import reuters\n",
        "from tensorflow.keras.models import Sequential\n",
        "from tensorflow.keras.layers import Dense, Dropout, Activation\n",
        "from tensorflow.keras.preprocessing.text import Tokenizer"
      ]
    },
    {
      "cell_type": "markdown",
      "source": [
        "### Load the Data"
      ],
      "metadata": {
        "id": "rkzREp0ph3V1"
      }
    },
    {
      "cell_type": "code",
      "source": [
        "( x_train, y_train), (x_test,y_test) = reuters.load_data(num_words=10000,test_split=0.2)\n",
        "print(len(x_train))\n",
        "print(len(x_test))\n",
        "num_classes = np.max(y_train) +1\n",
        "print(num_classes)"
      ],
      "metadata": {
        "colab": {
          "base_uri": "https://localhost:8080/"
        },
        "id": "GmKK0gbmh56E",
        "outputId": "4bf55e6b-8b09-4cc4-ac19-dcc37efed426"
      },
      "execution_count": 2,
      "outputs": [
        {
          "output_type": "stream",
          "name": "stdout",
          "text": [
            "Downloading data from https://storage.googleapis.com/tensorflow/tf-keras-datasets/reuters.npz\n",
            "2113536/2110848 [==============================] - 0s 0us/step\n",
            "2121728/2110848 [==============================] - 0s 0us/step\n",
            "8982\n",
            "2246\n",
            "46\n"
          ]
        }
      ]
    },
    {
      "cell_type": "markdown",
      "source": [
        "### Vectorize and One-hot Encoding"
      ],
      "metadata": {
        "id": "zJQv_I9ah3TE"
      }
    },
    {
      "cell_type": "code",
      "source": [
        "tokenizer = Tokenizer(num_words=10000)\n",
        "x_train = tokenizer.sequences_to_matrix(x_train,mode='binary')\n",
        "x_test = tokenizer.sequences_to_matrix(x_test,mode='binary')\n",
        "y_train = tf.keras.utils.to_categorical(y_train,num_classes)\n",
        "y_test = tf.keras.utils.to_categorical(y_test,num_classes)\n",
        "x_train.shape,x_test.shape\n",
        "y_train.shape, y_test.shape"
      ],
      "metadata": {
        "colab": {
          "base_uri": "https://localhost:8080/"
        },
        "id": "naTUZncmh_R1",
        "outputId": "30b20fb5-37b7-4e82-881a-c58224ebfe64"
      },
      "execution_count": 3,
      "outputs": [
        {
          "output_type": "execute_result",
          "data": {
            "text/plain": [
              "((8982, 46), (2246, 46))"
            ]
          },
          "metadata": {},
          "execution_count": 3
        }
      ]
    },
    {
      "cell_type": "markdown",
      "source": [
        "### Build Multilayer Perceptron Model"
      ],
      "metadata": {
        "id": "3jpUqZ94h3Qh"
      }
    },
    {
      "cell_type": "code",
      "source": [
        "model = Sequential([\n",
        "    Dense(512,input_shape = (10000,)),\n",
        "    Activation('relu'),\n",
        "    Dropout(0.5),\n",
        "    Dense(num_classes),\n",
        "    Activation('softmax')\n",
        "    \n",
        "    \n",
        "])\n",
        "model.summary()"
      ],
      "metadata": {
        "colab": {
          "base_uri": "https://localhost:8080/"
        },
        "id": "L7XeAOUAiDUL",
        "outputId": "e64c3cb7-426a-4af5-f7bb-a8b64a732cf5"
      },
      "execution_count": 4,
      "outputs": [
        {
          "output_type": "stream",
          "name": "stdout",
          "text": [
            "Model: \"sequential\"\n",
            "_________________________________________________________________\n",
            " Layer (type)                Output Shape              Param #   \n",
            "=================================================================\n",
            " dense (Dense)               (None, 512)               5120512   \n",
            "                                                                 \n",
            " activation (Activation)     (None, 512)               0         \n",
            "                                                                 \n",
            " dropout (Dropout)           (None, 512)               0         \n",
            "                                                                 \n",
            " dense_1 (Dense)             (None, 46)                23598     \n",
            "                                                                 \n",
            " activation_1 (Activation)   (None, 46)                0         \n",
            "                                                                 \n",
            "=================================================================\n",
            "Total params: 5,144,110\n",
            "Trainable params: 5,144,110\n",
            "Non-trainable params: 0\n",
            "_________________________________________________________________\n"
          ]
        }
      ]
    },
    {
      "cell_type": "markdown",
      "source": [
        "### Train Model"
      ],
      "metadata": {
        "id": "W5s8OD61h3NM"
      }
    },
    {
      "cell_type": "code",
      "source": [
        "from tensorflow.keras.callbacks import EarlyStopping\n",
        "es = EarlyStopping(monitor = 'val_loss',patience=3,verbose=1,mode='min')\n",
        "model.compile(optimizer ='adam',\n",
        "             loss= 'categorical_crossentropy',\n",
        "             metrics = ['accuracy'])\n",
        "h = model.fit(x_train, y_train,\n",
        "             epochs=100,\n",
        "             batch_size=32,\n",
        "             validation_split=0.1,\n",
        "             callbacks=[es])"
      ],
      "metadata": {
        "colab": {
          "base_uri": "https://localhost:8080/"
        },
        "id": "1JR4WxQviH_r",
        "outputId": "f93f9c99-dd85-4ee9-b8b9-a0d593a5e1b9"
      },
      "execution_count": 5,
      "outputs": [
        {
          "output_type": "stream",
          "name": "stdout",
          "text": [
            "Epoch 1/100\n",
            "253/253 [==============================] - 10s 37ms/step - loss: 1.2827 - accuracy: 0.7223 - val_loss: 0.9460 - val_accuracy: 0.7976\n",
            "Epoch 2/100\n",
            "253/253 [==============================] - 9s 36ms/step - loss: 0.4923 - accuracy: 0.8857 - val_loss: 0.8625 - val_accuracy: 0.8187\n",
            "Epoch 3/100\n",
            "253/253 [==============================] - 9s 34ms/step - loss: 0.2834 - accuracy: 0.9360 - val_loss: 0.9413 - val_accuracy: 0.8053\n",
            "Epoch 4/100\n",
            "253/253 [==============================] - 12s 48ms/step - loss: 0.2225 - accuracy: 0.9475 - val_loss: 0.9338 - val_accuracy: 0.8098\n",
            "Epoch 5/100\n",
            "253/253 [==============================] - 13s 51ms/step - loss: 0.2005 - accuracy: 0.9532 - val_loss: 1.0003 - val_accuracy: 0.8076\n",
            "Epoch 5: early stopping\n"
          ]
        }
      ]
    },
    {
      "cell_type": "markdown",
      "source": [
        "### Evaluate Model"
      ],
      "metadata": {
        "id": "Cc94p1MDiMiT"
      }
    },
    {
      "cell_type": "code",
      "source": [
        "model.evaluate(x_test,y_test,batch_size=32,verbose=1)"
      ],
      "metadata": {
        "colab": {
          "base_uri": "https://localhost:8080/"
        },
        "id": "HOer5Z37iPeG",
        "outputId": "88164917-1e45-44a1-8fa7-19c294f87e7a"
      },
      "execution_count": 6,
      "outputs": [
        {
          "output_type": "stream",
          "name": "stdout",
          "text": [
            "71/71 [==============================] - 1s 11ms/step - loss: 0.9828 - accuracy: 0.7974\n"
          ]
        },
        {
          "output_type": "execute_result",
          "data": {
            "text/plain": [
              "[0.9828191995620728, 0.7974176406860352]"
            ]
          },
          "metadata": {},
          "execution_count": 6
        }
      ]
    },
    {
      "cell_type": "markdown",
      "source": [
        "### Training and Validation Accuracy"
      ],
      "metadata": {
        "id": "EczRBDBJiMfU"
      }
    },
    {
      "cell_type": "code",
      "source": [
        "plt.plot(h.history['accuracy'],label='Training Accuracy')\n",
        "plt.plot(h.history['val_accuracy'],label = 'Validation Accuracy')\n",
        "plt.title('Taining and Validation Accuracy')\n",
        "plt.xlabel('Epochs')\n",
        "plt.ylabel('Loss')\n",
        "plt.legend()\n",
        "plt.show()"
      ],
      "metadata": {
        "colab": {
          "base_uri": "https://localhost:8080/",
          "height": 295
        },
        "id": "XrjklkSHiQ5v",
        "outputId": "88593ddf-503f-4b80-cdca-8e6145ae47f6"
      },
      "execution_count": 7,
      "outputs": [
        {
          "output_type": "display_data",
          "data": {
            "text/plain": [
              "<Figure size 432x288 with 1 Axes>"
            ],
            "image/png": "[encoded data removed]"
          },
          "metadata": {
            "needs_background": "light"
          }
        }
      ]
    },
    {
      "cell_type": "markdown",
      "source": [
        "### Training and Validation Loss"
      ],
      "metadata": {
        "id": "eKalyIRuiMcr"
      }
    },
    {
      "cell_type": "code",
      "source": [
        "plt.plot(h.history['loss'],label='Training Loss')\n",
        "plt.plot(h.history['val_loss'],label = 'Validation loss')\n",
        "plt.title('Taining and Validation Loss')\n",
        "plt.xlabel('Epochs')\n",
        "plt.ylabel('Loss')\n",
        "plt.legend()\n",
        "plt.show()"
      ],
      "metadata": {
        "colab": {
          "base_uri": "https://localhost:8080/",
          "height": 295
        },
        "id": "6PeSOztwiZXC",
        "outputId": "4547ae66-1cfd-4072-9482-8ab53a545f27"
      },
      "execution_count": 8,
      "outputs": [
        {
          "output_type": "display_data",
          "data": {
            "text/plain": [
              "<Figure size 432x288 with 1 Axes>"
            ],
            "image/png": "[encoded data removed]"
          },
          "metadata": {
            "needs_background": "light"
          }
        }
      ]
    },
    {
      "cell_type": "markdown",
      "source": [
        "##"
      ],
      "metadata": {
        "id": "PfU21YtkiMac"
      }
    }
  ]
}
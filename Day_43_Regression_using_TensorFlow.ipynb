{
  "nbformat": 4,
  "nbformat_minor": 0,
  "metadata": {
    "colab": {
      "provenance": [],
      "authorship_tag": "ABX9TyOgDJEPspt/3jNHAgnNeVDg"
    },
    "kernelspec": {
      "name": "python3",
      "display_name": "Python 3"
    },
    "language_info": {
      "name": "python"
    }
  },
  "cells": [
    {
      "cell_type": "code",
      "source": [
        "!pip install utils"
      ],
      "metadata": {
        "colab": {
          "base_uri": "https://localhost:8080/"
        },
        "id": "Xe9P79LBVZKn",
        "outputId": "56697b78-aa01-4d43-8de2-8ad7c04a2968"
      },
      "execution_count": 15,
      "outputs": [
        {
          "output_type": "stream",
          "name": "stdout",
          "text": [
            "Looking in indexes: https://pypi.org/simple, https://us-python.pkg.dev/colab-wheels/public/simple/\n",
            "Collecting utils\n",
            "  Downloading utils-1.0.1-py2.py3-none-any.whl (21 kB)\n",
            "Installing collected packages: utils\n",
            "Successfully installed utils-1.0.1\n"
          ]
        }
      ]
    },
    {
      "cell_type": "code",
      "execution_count": 16,
      "metadata": {
        "id": "POMyuM8nRrt4"
      },
      "outputs": [],
      "source": [
        "import pandas as pd\n",
        "import matplotlib.pyplot as plt\n",
        "import tensorflow as tf\n",
        "from utils import *\n",
        "from sklearn.model_selection import train_test_split\n",
        "from tensorflow.keras.models import Sequential\n",
        "from tensorflow.keras.layers import Dense, Dropout\n",
        "from tensorflow.keras.callbacks import EarlyStopping, LambdaCallback\n",
        "%matplotlib inline\n",
        "tf.compat.v1.logging.set_verbosity(tf.compat.v1.logging.ERROR)"
      ]
    },
    {
      "cell_type": "markdown",
      "source": [
        "### Load the Data"
      ],
      "metadata": {
        "id": "JKcgj3oaR2QW"
      }
    },
    {
      "cell_type": "code",
      "source": [
        "column_names = ['serial', 'date', 'distance', 'stores', 'latitude', 'longitude', 'price']\n",
        "df = pd.read_csv('https://raw.githubusercontent.com/thunderstroke325/60-Days-of-Data-Science-and-ML/main/datasets/data43.csv', names =column_names)\n",
        "# check missing data\n",
        "df.isna().sum()"
      ],
      "metadata": {
        "colab": {
          "base_uri": "https://localhost:8080/"
        },
        "id": "ijua4HXnR405",
        "outputId": "88d5f1a4-093c-42b9-fdfa-abb5bedae676"
      },
      "execution_count": 8,
      "outputs": [
        {
          "output_type": "execute_result",
          "data": {
            "text/plain": [
              "serial       0\n",
              "date         0\n",
              "distance     0\n",
              "stores       0\n",
              "latitude     0\n",
              "longitude    0\n",
              "price        0\n",
              "dtype: int64"
            ]
          },
          "metadata": {},
          "execution_count": 8
        }
      ]
    },
    {
      "cell_type": "markdown",
      "source": [
        "### Normalize Data and convert label value"
      ],
      "metadata": {
        "id": "Ovbc72DdR2OK"
      }
    },
    {
      "cell_type": "code",
      "source": [
        "df = df.iloc[:,1:]\n",
        "dn = (df-df.mean())/df.std()\n",
        "y_mean = df['price'].mean()\n",
        "y_std = df['price'].std()\n",
        "def cl(pred):\n",
        "    return int(pred * y_std + y_mean)"
      ],
      "metadata": {
        "id": "6Ac-3rvSR-gR"
      },
      "execution_count": 9,
      "outputs": []
    },
    {
      "cell_type": "markdown",
      "source": [
        "### Select Features and Train and Test split"
      ],
      "metadata": {
        "id": "iH2iwDDHR2L8"
      }
    },
    {
      "cell_type": "code",
      "source": [
        "x = dn.iloc[:,:6]\n",
        "y = dn.iloc[:,-1]\n",
        "x_arr = x.values\n",
        "y_arr = y.values\n",
        "x_train,x_test,y_train,y_test = train_test_split(x_arr,y_arr,test_size =0.05,random_state=0)"
      ],
      "metadata": {
        "id": "f-OkxhorSC84"
      },
      "execution_count": 10,
      "outputs": []
    },
    {
      "cell_type": "markdown",
      "source": [
        "### Create the model"
      ],
      "metadata": {
        "id": "QJaPfCJxSDmQ"
      }
    },
    {
      "cell_type": "code",
      "source": [
        "def gm():\n",
        "    model = Sequential([\n",
        "        Dense(10,input_shape = (6,),activation='relu'),\n",
        "        Dense(20,activation = 'relu'),\n",
        "        Dense(5,activation='relu'),\n",
        "        Dense(1)\n",
        "        \n",
        "    ])\n",
        "    model.compile(\n",
        "        loss ='mse',\n",
        "        optimizer ='adam'\n",
        "        \n",
        "    )\n",
        "    return model\n",
        "gm().summary()"
      ],
      "metadata": {
        "colab": {
          "base_uri": "https://localhost:8080/"
        },
        "id": "F0Aom4aHSGaT",
        "outputId": "2ae7032c-90da-41d8-a1ec-d9c06b530d9e"
      },
      "execution_count": 11,
      "outputs": [
        {
          "output_type": "stream",
          "name": "stdout",
          "text": [
            "Model: \"sequential\"\n",
            "_________________________________________________________________\n",
            " Layer (type)                Output Shape              Param #   \n",
            "=================================================================\n",
            " dense (Dense)               (None, 10)                70        \n",
            "                                                                 \n",
            " dense_1 (Dense)             (None, 20)                220       \n",
            "                                                                 \n",
            " dense_2 (Dense)             (None, 5)                 105       \n",
            "                                                                 \n",
            " dense_3 (Dense)             (None, 1)                 6         \n",
            "                                                                 \n",
            "=================================================================\n",
            "Total params: 401\n",
            "Trainable params: 401\n",
            "Non-trainable params: 0\n",
            "_________________________________________________________________\n"
          ]
        }
      ]
    },
    {
      "cell_type": "markdown",
      "source": [
        "### Model Training"
      ],
      "metadata": {
        "id": "phUYTDWvSDjz"
      }
    },
    {
      "cell_type": "code",
      "source": [
        "es = EarlyStopping(monitor = 'val_loss', patience =5)\n",
        "model =gm()\n",
        "pu = model.predict(x_test)\n",
        "h = model.fit(\n",
        "    x_train, y_train,\n",
        "    validation_data =(x_test,y_test),\n",
        "    epochs=100,\n",
        "    callbacks = [es]\n",
        ")"
      ],
      "metadata": {
        "colab": {
          "base_uri": "https://localhost:8080/"
        },
        "id": "CTrCfzeBSLO6",
        "outputId": "c819abe5-1bdc-4518-e4d3-ebebb153332c"
      },
      "execution_count": 12,
      "outputs": [
        {
          "output_type": "stream",
          "name": "stdout",
          "text": [
            "Epoch 1/100\n",
            "149/149 [==============================] - 1s 5ms/step - loss: 0.4915 - val_loss: 0.1024\n",
            "Epoch 2/100\n",
            "149/149 [==============================] - 1s 4ms/step - loss: 0.0610 - val_loss: 0.0308\n",
            "Epoch 3/100\n",
            "149/149 [==============================] - 1s 3ms/step - loss: 0.0251 - val_loss: 0.0164\n",
            "Epoch 4/100\n",
            "149/149 [==============================] - 1s 4ms/step - loss: 0.0134 - val_loss: 0.0106\n",
            "Epoch 5/100\n",
            "149/149 [==============================] - 1s 4ms/step - loss: 0.0081 - val_loss: 0.0071\n",
            "Epoch 6/100\n",
            "149/149 [==============================] - 0s 2ms/step - loss: 0.0054 - val_loss: 0.0052\n",
            "Epoch 7/100\n",
            "149/149 [==============================] - 0s 2ms/step - loss: 0.0041 - val_loss: 0.0041\n",
            "Epoch 8/100\n",
            "149/149 [==============================] - 0s 2ms/step - loss: 0.0032 - val_loss: 0.0033\n",
            "Epoch 9/100\n",
            "149/149 [==============================] - 0s 2ms/step - loss: 0.0027 - val_loss: 0.0028\n",
            "Epoch 10/100\n",
            "149/149 [==============================] - 0s 2ms/step - loss: 0.0023 - val_loss: 0.0023\n",
            "Epoch 11/100\n",
            "149/149 [==============================] - 0s 3ms/step - loss: 0.0019 - val_loss: 0.0021\n",
            "Epoch 12/100\n",
            "149/149 [==============================] - 0s 2ms/step - loss: 0.0017 - val_loss: 0.0017\n",
            "Epoch 13/100\n",
            "149/149 [==============================] - 0s 2ms/step - loss: 0.0015 - val_loss: 0.0016\n",
            "Epoch 14/100\n",
            "149/149 [==============================] - 0s 2ms/step - loss: 0.0013 - val_loss: 0.0013\n",
            "Epoch 15/100\n",
            "149/149 [==============================] - 0s 2ms/step - loss: 0.0011 - val_loss: 0.0012\n",
            "Epoch 16/100\n",
            "149/149 [==============================] - 0s 2ms/step - loss: 0.0010 - val_loss: 0.0010\n",
            "Epoch 17/100\n",
            "149/149 [==============================] - 0s 2ms/step - loss: 8.8489e-04 - val_loss: 9.1113e-04\n",
            "Epoch 18/100\n",
            "149/149 [==============================] - 0s 2ms/step - loss: 7.9933e-04 - val_loss: 8.6668e-04\n",
            "Epoch 19/100\n",
            "149/149 [==============================] - 0s 2ms/step - loss: 7.1532e-04 - val_loss: 7.4594e-04\n",
            "Epoch 20/100\n",
            "149/149 [==============================] - 0s 2ms/step - loss: 6.5376e-04 - val_loss: 6.6500e-04\n",
            "Epoch 21/100\n",
            "149/149 [==============================] - 0s 2ms/step - loss: 5.8485e-04 - val_loss: 7.2834e-04\n",
            "Epoch 22/100\n",
            "149/149 [==============================] - 0s 2ms/step - loss: 5.3075e-04 - val_loss: 6.0480e-04\n",
            "Epoch 23/100\n",
            "149/149 [==============================] - 0s 2ms/step - loss: 4.7009e-04 - val_loss: 4.8716e-04\n",
            "Epoch 24/100\n",
            "149/149 [==============================] - 0s 2ms/step - loss: 4.2593e-04 - val_loss: 4.7348e-04\n",
            "Epoch 25/100\n",
            "149/149 [==============================] - 0s 2ms/step - loss: 3.9264e-04 - val_loss: 4.2426e-04\n",
            "Epoch 26/100\n",
            "149/149 [==============================] - 0s 2ms/step - loss: 3.5851e-04 - val_loss: 3.5444e-04\n",
            "Epoch 27/100\n",
            "149/149 [==============================] - 0s 2ms/step - loss: 3.2225e-04 - val_loss: 3.2594e-04\n",
            "Epoch 28/100\n",
            "149/149 [==============================] - 0s 2ms/step - loss: 2.9298e-04 - val_loss: 3.0120e-04\n",
            "Epoch 29/100\n",
            "149/149 [==============================] - 0s 2ms/step - loss: 2.7086e-04 - val_loss: 3.1783e-04\n",
            "Epoch 30/100\n",
            "149/149 [==============================] - 0s 2ms/step - loss: 2.5093e-04 - val_loss: 2.6940e-04\n",
            "Epoch 31/100\n",
            "149/149 [==============================] - 0s 2ms/step - loss: 2.3794e-04 - val_loss: 2.2285e-04\n",
            "Epoch 32/100\n",
            "149/149 [==============================] - 0s 2ms/step - loss: 2.0742e-04 - val_loss: 2.0535e-04\n",
            "Epoch 33/100\n",
            "149/149 [==============================] - 0s 2ms/step - loss: 1.7876e-04 - val_loss: 1.9340e-04\n",
            "Epoch 34/100\n",
            "149/149 [==============================] - 0s 2ms/step - loss: 1.6165e-04 - val_loss: 1.7644e-04\n",
            "Epoch 35/100\n",
            "149/149 [==============================] - 0s 2ms/step - loss: 1.5093e-04 - val_loss: 1.7567e-04\n",
            "Epoch 36/100\n",
            "149/149 [==============================] - 0s 2ms/step - loss: 1.3787e-04 - val_loss: 1.6351e-04\n",
            "Epoch 37/100\n",
            "149/149 [==============================] - 0s 2ms/step - loss: 1.2415e-04 - val_loss: 1.6389e-04\n",
            "Epoch 38/100\n",
            "149/149 [==============================] - 0s 2ms/step - loss: 1.1229e-04 - val_loss: 1.1524e-04\n",
            "Epoch 39/100\n",
            "149/149 [==============================] - 0s 2ms/step - loss: 1.0271e-04 - val_loss: 1.2357e-04\n",
            "Epoch 40/100\n",
            "149/149 [==============================] - 0s 2ms/step - loss: 8.8340e-05 - val_loss: 1.0765e-04\n",
            "Epoch 41/100\n",
            "149/149 [==============================] - 0s 2ms/step - loss: 7.9756e-05 - val_loss: 1.1816e-04\n",
            "Epoch 42/100\n",
            "149/149 [==============================] - 0s 2ms/step - loss: 7.5189e-05 - val_loss: 1.0239e-04\n",
            "Epoch 43/100\n",
            "149/149 [==============================] - 0s 2ms/step - loss: 7.3513e-05 - val_loss: 6.7512e-05\n",
            "Epoch 44/100\n",
            "149/149 [==============================] - 0s 2ms/step - loss: 5.7674e-05 - val_loss: 7.5165e-05\n",
            "Epoch 45/100\n",
            "149/149 [==============================] - 0s 2ms/step - loss: 5.5083e-05 - val_loss: 8.5737e-05\n",
            "Epoch 46/100\n",
            "149/149 [==============================] - 0s 2ms/step - loss: 4.9845e-05 - val_loss: 6.2448e-05\n",
            "Epoch 47/100\n",
            "149/149 [==============================] - 0s 2ms/step - loss: 4.4433e-05 - val_loss: 6.9165e-05\n",
            "Epoch 48/100\n",
            "149/149 [==============================] - 0s 2ms/step - loss: 4.9399e-05 - val_loss: 5.4599e-05\n",
            "Epoch 49/100\n",
            "149/149 [==============================] - 0s 2ms/step - loss: 4.0966e-05 - val_loss: 5.2438e-05\n",
            "Epoch 50/100\n",
            "149/149 [==============================] - 0s 2ms/step - loss: 3.8776e-05 - val_loss: 5.7642e-05\n",
            "Epoch 51/100\n",
            "149/149 [==============================] - 0s 2ms/step - loss: 4.1892e-05 - val_loss: 4.2101e-05\n",
            "Epoch 52/100\n",
            "149/149 [==============================] - 0s 2ms/step - loss: 3.1405e-05 - val_loss: 2.6106e-05\n",
            "Epoch 53/100\n",
            "149/149 [==============================] - 0s 2ms/step - loss: 2.8029e-05 - val_loss: 4.4550e-05\n",
            "Epoch 54/100\n",
            "149/149 [==============================] - 0s 2ms/step - loss: 2.9333e-05 - val_loss: 3.8637e-05\n",
            "Epoch 55/100\n",
            "149/149 [==============================] - 0s 2ms/step - loss: 2.3751e-05 - val_loss: 2.4844e-05\n",
            "Epoch 56/100\n",
            "149/149 [==============================] - 0s 2ms/step - loss: 2.1793e-05 - val_loss: 2.0407e-05\n",
            "Epoch 57/100\n",
            "149/149 [==============================] - 0s 2ms/step - loss: 2.4664e-05 - val_loss: 2.3528e-05\n",
            "Epoch 58/100\n",
            "149/149 [==============================] - 0s 3ms/step - loss: 1.9955e-05 - val_loss: 2.4583e-05\n",
            "Epoch 59/100\n",
            "149/149 [==============================] - 0s 2ms/step - loss: 1.7602e-05 - val_loss: 2.2754e-05\n",
            "Epoch 60/100\n",
            "149/149 [==============================] - 0s 2ms/step - loss: 1.4347e-05 - val_loss: 2.6970e-05\n",
            "Epoch 61/100\n",
            "149/149 [==============================] - 0s 2ms/step - loss: 2.0621e-05 - val_loss: 1.6926e-05\n",
            "Epoch 62/100\n",
            "149/149 [==============================] - 0s 2ms/step - loss: 1.5620e-05 - val_loss: 1.5586e-05\n",
            "Epoch 63/100\n",
            "149/149 [==============================] - 0s 2ms/step - loss: 2.4797e-05 - val_loss: 4.2284e-05\n",
            "Epoch 64/100\n",
            "149/149 [==============================] - 0s 2ms/step - loss: 1.9155e-05 - val_loss: 2.4927e-05\n",
            "Epoch 65/100\n",
            "149/149 [==============================] - 0s 2ms/step - loss: 1.8940e-05 - val_loss: 2.5621e-05\n",
            "Epoch 66/100\n",
            "149/149 [==============================] - 0s 2ms/step - loss: 1.2857e-05 - val_loss: 1.7647e-05\n",
            "Epoch 67/100\n",
            "149/149 [==============================] - 0s 2ms/step - loss: 1.0584e-05 - val_loss: 1.0675e-05\n",
            "Epoch 68/100\n",
            "149/149 [==============================] - 0s 2ms/step - loss: 1.4315e-05 - val_loss: 1.6100e-05\n",
            "Epoch 69/100\n",
            "149/149 [==============================] - 0s 2ms/step - loss: 1.0253e-05 - val_loss: 2.0210e-05\n",
            "Epoch 70/100\n",
            "149/149 [==============================] - 0s 2ms/step - loss: 1.4496e-05 - val_loss: 6.9053e-05\n",
            "Epoch 71/100\n",
            "149/149 [==============================] - 0s 2ms/step - loss: 1.5858e-05 - val_loss: 1.6773e-05\n",
            "Epoch 72/100\n",
            "149/149 [==============================] - 0s 2ms/step - loss: 9.7922e-06 - val_loss: 7.9213e-06\n",
            "Epoch 73/100\n",
            "149/149 [==============================] - 0s 2ms/step - loss: 1.1045e-05 - val_loss: 8.3531e-06\n",
            "Epoch 74/100\n",
            "149/149 [==============================] - 0s 2ms/step - loss: 7.1072e-06 - val_loss: 6.5941e-06\n",
            "Epoch 75/100\n",
            "149/149 [==============================] - 0s 2ms/step - loss: 9.9183e-06 - val_loss: 3.6126e-05\n",
            "Epoch 76/100\n",
            "149/149 [==============================] - 0s 2ms/step - loss: 1.9992e-05 - val_loss: 8.3169e-06\n",
            "Epoch 77/100\n",
            "149/149 [==============================] - 0s 2ms/step - loss: 1.1436e-05 - val_loss: 3.4920e-05\n",
            "Epoch 78/100\n",
            "149/149 [==============================] - 0s 2ms/step - loss: 1.0207e-05 - val_loss: 1.7413e-05\n",
            "Epoch 79/100\n",
            "149/149 [==============================] - 0s 2ms/step - loss: 5.5641e-06 - val_loss: 8.0371e-06\n"
          ]
        }
      ]
    },
    {
      "cell_type": "markdown",
      "source": [
        "### Plot Loss"
      ],
      "metadata": {
        "id": "G_Kgx1tgSDhR"
      }
    },
    {
      "cell_type": "code",
      "source": [
        "loss_values = h.history['loss']\n",
        "epochs = range(1, len(loss_values)+1)\n",
        "\n",
        "plt.plot(epochs, loss_values, label='Training Loss')\n",
        "plt.xlabel('Epochs')\n",
        "plt.ylabel('Loss')\n",
        "plt.legend()\n",
        "\n",
        "plt.show()"
      ],
      "metadata": {
        "colab": {
          "base_uri": "https://localhost:8080/",
          "height": 279
        },
        "id": "tanUaDQzSN1a",
        "outputId": "9e698d86-6d35-4f4c-d791-e5d29bfeb6d2"
      },
      "execution_count": 23,
      "outputs": [
        {
          "output_type": "display_data",
          "data": {
            "text/plain": [
              "<Figure size 432x288 with 1 Axes>"
            ],
            "image/png": "[encoded data removed]"
          },
          "metadata": {
            "needs_background": "light"
          }
        }
      ]
    }
  ]
}
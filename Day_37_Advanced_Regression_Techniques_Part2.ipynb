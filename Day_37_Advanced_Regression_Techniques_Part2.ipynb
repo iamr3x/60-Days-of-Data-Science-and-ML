{
  "nbformat": 4,
  "nbformat_minor": 0,
  "metadata": {
    "colab": {
      "provenance": [],
      "toc_visible": true,
      "authorship_tag": "ABX9TyOpBf/b+oJWM46N4EzaIk6W"
    },
    "kernelspec": {
      "name": "python3",
      "display_name": "Python 3"
    },
    "language_info": {
      "name": "python"
    }
  },
  "cells": [
    {
      "cell_type": "code",
      "execution_count": 10,
      "metadata": {
        "id": "uysoD8o5Jgoa"
      },
      "outputs": [],
      "source": [
        "import seaborn as sns\n",
        "from matplotlib import pyplot as plt\n",
        "import numpy as np\n",
        "import pandas as pd\n",
        "\n",
        "from matplotlib.colors import rgb2hex\n",
        "import matplotlib.cm as cm\n",
        "import matplotlib.colors \n",
        "\n",
        "from sklearn.pipeline import Pipeline\n",
        "from sklearn.preprocessing import StandardScaler\n",
        "from sklearn.model_selection import cross_val_score\n",
        "import sklearn.metrics as metrics\n",
        "\n",
        "sns.set(style=\"darkgrid\")\n",
        "cmap2 = cm.get_cmap('twilight',13)\n",
        "colors1= []\n",
        "for i in range(cmap2.N):\n",
        "    rgb= cmap2(i)[:4]\n",
        "    colors1.append(rgb2hex(rgb))\n",
        "    #print(rgb2hex(rgb))"
      ]
    },
    {
      "cell_type": "markdown",
      "source": [
        "### Load the Data"
      ],
      "metadata": {
        "id": "5AV55cAUJ0JE"
      }
    },
    {
      "cell_type": "code",
      "source": [
        "ht_df=pd.read_csv(\"https://raw.githubusercontent.com/thunderstroke325/60-Days-of-Data-Science-and-ML/main/datasets/data36_train.csv\")\n",
        "htest = pd.read_csv('https://raw.githubusercontent.com/thunderstroke325/60-Days-of-Data-Science-and-ML/main/datasets/data36_test.csv')"
      ],
      "metadata": {
        "id": "szQDdPNzJ0gs"
      },
      "execution_count": 2,
      "outputs": []
    },
    {
      "cell_type": "markdown",
      "source": [
        "Declare Features (X and Y)"
      ],
      "metadata": {
        "id": "gCMED2BMLqG9"
      }
    },
    {
      "cell_type": "code",
      "source": [
        "X = ht_df[[\"TotalBsmtSF\",\"1stFlrSF\",\"FullBath\",\"TotRmsAbvGrd\",\"YearBuilt\",\"YearRemodAdd\",\"OverallQual\",\"GrLivArea\",\"GarageCars\",\"GarageArea\"]]\n",
        "y = ht_df['SalePrice']"
      ],
      "metadata": {
        "id": "i19_Zb_vLtDU"
      },
      "execution_count": 3,
      "outputs": []
    },
    {
      "cell_type": "markdown",
      "source": [
        "### Split into train and test data"
      ],
      "metadata": {
        "id": "319CWSRSLqEU"
      }
    },
    {
      "cell_type": "code",
      "source": [
        "from sklearn.model_selection import train_test_split\n",
        "X_train, X_test, y_train, y_test = train_test_split(X, y, test_size=0.4, random_state=42)"
      ],
      "metadata": {
        "id": "rFSL7cPrL32t"
      },
      "execution_count": 4,
      "outputs": []
    },
    {
      "cell_type": "markdown",
      "source": [
        "### Rescale the data, Cross Validation and Evaluation Metrics"
      ],
      "metadata": {
        "id": "xRTthYhULp-X"
      }
    },
    {
      "cell_type": "code",
      "source": [
        "pipeline = Pipeline([\n",
        "    ('std_scalar', StandardScaler())\n",
        "])\n",
        "X_train = pipeline.fit_transform(X_train)\n",
        "X_test = pipeline.transform(X_test)\n",
        "\n",
        "def cross_val(model):\n",
        "    pred = cross_val_score(model, X, y, cv=5)\n",
        "    return pred.mean()\n",
        "\n",
        "def print_evaluate(t, p):  \n",
        "    mae = metrics.mean_absolute_error(t, p)\n",
        "    mse = metrics.mean_squared_error(t, p)\n",
        "    rmse = np.sqrt(metrics.mean_squared_error(t, p))\n",
        "    r2_square = metrics.r2_score(t, p)\n",
        "    print('Mean Squared Error:', mse)\n",
        "    print('Root Mean Squared Error:', rmse)\n",
        "    print('Mean Absoulte Error:', mae)\n",
        "    print('R2 Square:', r2_square)\n",
        "    print('-'* 8)"
      ],
      "metadata": {
        "id": "-bkio36uMG7-"
      },
      "execution_count": 11,
      "outputs": []
    },
    {
      "cell_type": "markdown",
      "source": [
        "### Linear Regression"
      ],
      "metadata": {
        "id": "QfMzBT85Lp4E"
      }
    },
    {
      "cell_type": "code",
      "source": [
        "from sklearn.linear_model import LinearRegression\n",
        "linear_reg = LinearRegression(normalize=True)\n",
        "linear_reg.fit(X_train,y_train)\n",
        "test_pred = linear_reg.predict(X_test)\n",
        "train_pred = linear_reg.predict(X_train)\n",
        "print('Train set evaluation:')\n",
        "print_evaluate(y_train, train_pred)\n",
        "print('Test set evaluation:')\n",
        "print_evaluate(y_test, test_pred)"
      ],
      "metadata": {
        "colab": {
          "base_uri": "https://localhost:8080/"
        },
        "id": "KCDqBW4h5oej",
        "outputId": "4e81c128-f8ba-4676-bcc1-4af15edd91ae"
      },
      "execution_count": 12,
      "outputs": [
        {
          "output_type": "stream",
          "name": "stdout",
          "text": [
            "Train set evaluation:\n",
            "Mean Squared Error: 1443122011.1659107\n",
            "Root Mean Squared Error: 37988.44575875552\n",
            "Mean Absoulte Error: 24136.742772186506\n",
            "R2 Square: 0.7457982125999305\n",
            "--------\n",
            "Test set evaluation:\n",
            "Mean Squared Error: 1515969395.6813357\n",
            "Root Mean Squared Error: 38935.451656316196\n",
            "Mean Absoulte Error: 24839.632252832587\n",
            "R2 Square: 0.7908320198833435\n",
            "--------\n"
          ]
        },
        {
          "output_type": "stream",
          "name": "stderr",
          "text": [
            "/usr/local/lib/python3.7/dist-packages/sklearn/linear_model/_base.py:145: FutureWarning: 'normalize' was deprecated in version 1.0 and will be removed in 1.2.\n",
            "If you wish to scale the data, use Pipeline with a StandardScaler in a preprocessing stage. To reproduce the previous behavior:\n",
            "\n",
            "from sklearn.pipeline import make_pipeline\n",
            "\n",
            "model = make_pipeline(StandardScaler(with_mean=False), LinearRegression())\n",
            "\n",
            "If you wish to pass a sample_weight parameter, you need to pass it as a fit parameter to each step of the pipeline as follows:\n",
            "\n",
            "kwargs = {s[0] + '__sample_weight': sample_weight for s in model.steps}\n",
            "model.fit(X, y, **kwargs)\n",
            "\n",
            "\n",
            "  FutureWarning,\n"
          ]
        }
      ]
    },
    {
      "cell_type": "markdown",
      "source": [
        "### SVM Regression"
      ],
      "metadata": {
        "id": "XDgJpQPF5n7D"
      }
    },
    {
      "cell_type": "code",
      "source": [
        "from sklearn.svm import SVR\n",
        "svm_reg_model = SVR(kernel='rbf', C=1000000, epsilon=0.001)\n",
        "svm_reg_model.fit(X_train, y_train)\n",
        "test_pred = svm_reg_model.predict(X_test)\n",
        "train_pred = svm_reg_model.predict(X_train)\n",
        "print('Train set evaluation:')\n",
        "print_evaluate(y_train, train_pred)\n",
        "print('Test set evaluation:')\n",
        "print_evaluate(y_test, test_pred)"
      ],
      "metadata": {
        "colab": {
          "base_uri": "https://localhost:8080/"
        },
        "id": "YlVjC3sc6N4E",
        "outputId": "2a4e6217-5d2d-4319-e5c0-062db322b3b3"
      },
      "execution_count": 13,
      "outputs": [
        {
          "output_type": "stream",
          "name": "stdout",
          "text": [
            "Train set evaluation:\n",
            "Mean Squared Error: 337812543.56726295\n",
            "Root Mean Squared Error: 18379.677460914892\n",
            "Mean Absoulte Error: 9085.7086559685\n",
            "R2 Square: 0.9404952930406869\n",
            "--------\n",
            "Test set evaluation:\n",
            "Mean Squared Error: 1186154546.6443958\n",
            "Root Mean Squared Error: 34440.594458348074\n",
            "Mean Absoulte Error: 21280.0245937407\n",
            "R2 Square: 0.8363386811537259\n",
            "--------\n"
          ]
        }
      ]
    },
    {
      "cell_type": "markdown",
      "source": [
        "### Random Forest Regression"
      ],
      "metadata": {
        "id": "y0UZ7nQ95n4q"
      }
    },
    {
      "cell_type": "code",
      "source": [
        "from sklearn.ensemble import RandomForestRegressor\n",
        "random_reg_model = RandomForestRegressor(n_estimators=1500)\n",
        "random_reg_model.fit(X_train, y_train)\n",
        "test_pred = random_reg_model.predict(X_test)\n",
        "train_pred = random_reg_model.predict(X_train)\n",
        "print('Train set evaluation:')\n",
        "print_evaluate(y_train, train_pred)\n",
        "print('Test set evaluation:')\n",
        "print_evaluate(y_test, test_pred)"
      ],
      "metadata": {
        "colab": {
          "base_uri": "https://localhost:8080/"
        },
        "id": "NDgMWewt6jDt",
        "outputId": "2cf3d7db-8a31-4365-deac-ae1e55a48a45"
      },
      "execution_count": 14,
      "outputs": [
        {
          "output_type": "stream",
          "name": "stdout",
          "text": [
            "Train set evaluation:\n",
            "Mean Squared Error: 156968074.0247644\n",
            "Root Mean Squared Error: 12528.690036263344\n",
            "Mean Absoulte Error: 7593.223968641734\n",
            "R2 Square: 0.972350525684516\n",
            "--------\n",
            "Test set evaluation:\n",
            "Mean Squared Error: 1020998725.0289819\n",
            "Root Mean Squared Error: 31953.07066666648\n",
            "Mean Absoulte Error: 19441.42459030496\n",
            "R2 Square: 0.8591262847229106\n",
            "--------\n"
          ]
        }
      ]
    },
    {
      "cell_type": "markdown",
      "source": [
        "### SGD Regression"
      ],
      "metadata": {
        "id": "it9BosAK5n2i"
      }
    },
    {
      "cell_type": "code",
      "source": [
        "from sklearn.linear_model import SGDRegressor\n",
        "sgd_reg_model = SGDRegressor(n_iter_no_change=150, penalty=None, eta0=0.0001, max_iter=1000, tol=1e-3)\n",
        "sgd_reg_model.fit(X_train, y_train)\n",
        "test_pred = sgd_reg_model.predict(X_test)\n",
        "train_pred = sgd_reg_model.predict(X_train)\n",
        "print('Train set evaluation:')\n",
        "print_evaluate(y_train, train_pred)\n",
        "print('Test set evaluation:')\n",
        "print_evaluate(y_test, test_pred)"
      ],
      "metadata": {
        "colab": {
          "base_uri": "https://localhost:8080/"
        },
        "id": "F1d2dSdy60Bd",
        "outputId": "8dcdef77-8d0f-4a0a-f2b9-3c254216ac5d"
      },
      "execution_count": 15,
      "outputs": [
        {
          "output_type": "stream",
          "name": "stdout",
          "text": [
            "Train set evaluation:\n",
            "Mean Squared Error: 1476562866.8268046\n",
            "Root Mean Squared Error: 38426.07014549894\n",
            "Mean Absoulte Error: 23950.873695498278\n",
            "R2 Square: 0.7399077021542343\n",
            "--------\n",
            "Test set evaluation:\n",
            "Mean Squared Error: 1576941269.5775003\n",
            "Root Mean Squared Error: 39710.71983202395\n",
            "Mean Absoulte Error: 24513.419512052624\n",
            "R2 Square: 0.7824193410105906\n",
            "--------\n"
          ]
        },
        {
          "output_type": "stream",
          "name": "stderr",
          "text": [
            "/usr/local/lib/python3.7/dist-packages/sklearn/linear_model/_stochastic_gradient.py:1507: ConvergenceWarning: Maximum number of iteration reached before convergence. Consider increasing max_iter to improve the fit.\n",
            "  ConvergenceWarning,\n"
          ]
        }
      ]
    },
    {
      "cell_type": "markdown",
      "source": [
        "### Elastic Net"
      ],
      "metadata": {
        "id": "sAKCp8GQ5n0S"
      }
    },
    {
      "cell_type": "code",
      "source": [
        "from sklearn.linear_model import ElasticNet\n",
        "elastic_model = ElasticNet(alpha=0.1, l1_ratio=0.9, selection='random', random_state=42)\n",
        "elastic_model.fit(X_train, y_train)\n",
        "test_pred = elastic_model.predict(X_test)\n",
        "train_pred = elastic_model.predict(X_train)\n",
        "print('Train set evaluation:')\n",
        "print_evaluate(y_train, train_pred)\n",
        "print('Test set evaluation:')\n",
        "print_evaluate(y_test, test_pred)"
      ],
      "metadata": {
        "colab": {
          "base_uri": "https://localhost:8080/"
        },
        "id": "ZKRpeUxK66cy",
        "outputId": "de02a51c-e9a1-4a36-fe2c-3589b868e9cd"
      },
      "execution_count": 16,
      "outputs": [
        {
          "output_type": "stream",
          "name": "stdout",
          "text": [
            "Train set evaluation:\n",
            "Mean Squared Error: 1443387568.7624135\n",
            "Root Mean Squared Error: 37991.940839636154\n",
            "Mean Absoulte Error: 24095.566913047976\n",
            "R2 Square: 0.7457514353938687\n",
            "--------\n",
            "Test set evaluation:\n",
            "Mean Squared Error: 1519367069.6515937\n",
            "Root Mean Squared Error: 38979.05937361231\n",
            "Mean Absoulte Error: 24764.107436824193\n",
            "R2 Square: 0.7903632211045037\n",
            "--------\n"
          ]
        }
      ]
    },
    {
      "cell_type": "markdown",
      "source": [
        "### Lasso Regression"
      ],
      "metadata": {
        "id": "WuJvTM6D5nVy"
      }
    },
    {
      "cell_type": "code",
      "source": [
        "from sklearn.linear_model import Lasso\n",
        "lasso_model = Lasso(alpha=0.1, \n",
        "              precompute=True, \n",
        "              selection='random',\n",
        "              random_state=42)\n",
        "lasso_model.fit(X_train, y_train)\n",
        "test_pred = lasso_model.predict(X_test)\n",
        "train_pred = lasso_model.predict(X_train)\n",
        "print('Train set evaluation:')\n",
        "print_evaluate(y_train, train_pred)\n",
        "print('Test set evaluation:')\n",
        "print_evaluate(y_test, test_pred)"
      ],
      "metadata": {
        "colab": {
          "base_uri": "https://localhost:8080/"
        },
        "id": "vWZRPGg07Ics",
        "outputId": "37557df7-5fc3-499a-a182-9d52de44250e"
      },
      "execution_count": 17,
      "outputs": [
        {
          "output_type": "stream",
          "name": "stdout",
          "text": [
            "Train set evaluation:\n",
            "Mean Squared Error: 1443122011.2726438\n",
            "Root Mean Squared Error: 37988.445760160335\n",
            "Mean Absoulte Error: 24136.740151374444\n",
            "R2 Square: 0.7457982125811298\n",
            "--------\n",
            "Test set evaluation:\n",
            "Mean Squared Error: 1515971336.5135422\n",
            "Root Mean Squared Error: 38935.47658002329\n",
            "Mean Absoulte Error: 24839.608081909846\n",
            "R2 Square: 0.7908317520943278\n",
            "--------\n"
          ]
        }
      ]
    },
    {
      "cell_type": "markdown",
      "source": [
        "### Ridge Regression"
      ],
      "metadata": {
        "id": "bKjQ4CUA7K-D"
      }
    },
    {
      "cell_type": "code",
      "source": [
        "from sklearn.linear_model import Ridge\n",
        "ridge_model = Ridge(alpha=1.0, solver='cholesky', tol=0.0005, random_state=42)\n",
        "ridge_model.fit(X_train, y_train)\n",
        "pred = ridge_model.predict(X_test)\n",
        "test_pred = ridge_model.predict(X_test)\n",
        "train_pred = ridge_model.predict(X_train)\n",
        "print('Train set evaluation:')\n",
        "print_evaluate(y_train, train_pred)\n",
        "print('Test set evaluation:')\n",
        "print_evaluate(y_test, test_pred)"
      ],
      "metadata": {
        "colab": {
          "base_uri": "https://localhost:8080/"
        },
        "id": "dC8ykOuT7MzK",
        "outputId": "e49c447e-4a5b-4ebf-cc5b-8fca3066260d"
      },
      "execution_count": 18,
      "outputs": [
        {
          "output_type": "stream",
          "name": "stdout",
          "text": [
            "Train set evaluation:\n",
            "Mean Squared Error: 1443125805.7719235\n",
            "Root Mean Squared Error: 37988.495702935164\n",
            "Mean Absoulte Error: 24131.603973071877\n",
            "R2 Square: 0.7457975441910063\n",
            "--------\n",
            "Test set evaluation:\n",
            "Mean Squared Error: 1516333340.34665\n",
            "Root Mean Squared Error: 38940.12506845156\n",
            "Mean Absoulte Error: 24830.20672916764\n",
            "R2 Square: 0.7907818041133321\n",
            "--------\n"
          ]
        }
      ]
    }
  ]
}